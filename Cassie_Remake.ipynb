{
 "cells": [
  {
   "cell_type": "code",
   "execution_count": null,
   "metadata": {},
   "outputs": [],
   "source": [
    "import numpy as np\n",
    "import gymnasium.utils as utils \n",
    "import mujoco as m \n",
    "import gymnasium as gym \n",
    "from gymnasium.envs.mujoco.mujoco_env import MujocoEnv\n",
    "from gymnasium.spaces  import Box\n",
    "import torch"
   ]
  },
  {
   "cell_type": "code",
   "execution_count": null,
   "metadata": {},
   "outputs": [],
   "source": [
    "import torch"
   ]
  },
  {
   "cell_type": "code",
   "execution_count": null,
   "metadata": {},
   "outputs": [
    {
     "data": {
      "text/plain": [
       "True"
      ]
     },
     "execution_count": 3,
     "metadata": {},
     "output_type": "execute_result"
    }
   ],
   "source": [
    "torch.cuda.is_available()"
   ]
  },
  {
   "cell_type": "code",
   "execution_count": null,
   "metadata": {},
   "outputs": [
    {
     "name": "stdout",
     "output_type": "stream",
     "text": [
      "cuda\n"
     ]
    }
   ],
   "source": [
    "#check if GPU is available\n",
    "device = torch.device(\"cuda\" if torch.cuda.is_available() else \"cpu\")\n",
    "print(device)"
   ]
  },
  {
   "cell_type": "code",
   "execution_count": null,
   "metadata": {},
   "outputs": [],
   "source": [
    "THETA_LEFT = 0.5\n",
    "THETA_RIGHT = 0\n",
    "MAX_STEPS = 300 \n",
    "OMEGA = 1 \n",
    "STEPS_IN_CYCLE= 30 \n",
    "a_swing = 0 \n",
    "b_swing = 0.5\n",
    "a_stance = 0.5\n",
    "b_stance = 1\n",
    "FORWARD_QUARTERNIONS = np.array([1, 0, 0, 0])\n",
    "KAPPA = 8 \n",
    "X_VEL = 0.5\n",
    "Z_VEL = 0\n",
    "c_swing_frc = -1 \n",
    "c_stance_frc = 0\n",
    "c_swing_spd = 0\n",
    "c_stance_spd = -1"
   ]
  },
  {
   "cell_type": "code",
   "execution_count": null,
   "metadata": {},
   "outputs": [],
   "source": [
    "DEFAULT_CAMERA_CONFIG = {\n",
    "    \"trackbodyid\": 0,  # use the body id of Cassie\n",
    "    \"distance\": 4.0,\n",
    "    \"lookat\": np.array((0.0, 0.0, 0.85)),  # adjust the height to match Cassie's height\n",
    "    \"elevation\": -20.0,\n",
    "}\n",
    "\n",
    "\n",
    "\n",
    "class CassieEnv(MujocoEnv):\n",
    "    metadata = {\n",
    "        \"render_modes\": [\n",
    "            \"human\",\n",
    "            \"rgb_array\",\n",
    "            \"depth_array\",\n",
    "        ],\n",
    "        \"render_fps\": 100,\n",
    "    }\n",
    "\n",
    "\n",
    "\n",
    "\n",
    "    def vm_cdf(self,x, mu, kappa, num_points=1000):\n",
    "        \"\"\"Computes the CDF of the von Mises distribution.\n",
    "\n",
    "        Parameters:\n",
    "        x (float or array-like): Value(s) at which to evaluate the CDF.\n",
    "        mu (float): Mean parameter of the von Mises distribution.\n",
    "        kappa (float): Concentration parameter of the von Mises distribution.\n",
    "        num_points (int, optional): Number of points to use in the numerical integration. Default is 1000.\n",
    "\n",
    "        Returns:\n",
    "        float or array-like: The CDF of the von Mises distribution evaluated at `x`.\n",
    "        \"\"\"\n",
    "        \n",
    "        def besseli0(x):\n",
    "            \"\"\"Approximation of the Bessel I0 function.\"\"\"\n",
    "            ax = np.abs(x)\n",
    "            if ax < 3.75:\n",
    "                y = x / 3.75\n",
    "                y2 = y ** 2\n",
    "                return 1.0 + y2 * (3.5156229 + y2 * (3.0899424 + y2 * (1.2067492 + y2 * (0.2659732 + y2 * (0.0360768 + y2 * 0.0045813)))))\n",
    "            else:\n",
    "                y = 3.75 / ax\n",
    "                return (np.exp(ax) / np.sqrt(ax)) * (0.39894228 + y * (0.01328592 + y * (0.00225319 + y * (-0.00157565 + y * (0.00916281 + y * (-0.02057706 + y * (0.02635537 + y * (-0.01647633 + y * 0.00392377))))))))\n",
    "\n",
    "        def integrand(t):\n",
    "            return np.exp(kappa * np.cos(t - mu)) / besseli0(kappa)\n",
    "\n",
    "        if isinstance(x, (int, float)):\n",
    "            # Compute the numerical integral using the trapezoidal rule\n",
    "            xvals = np.linspace(-np.pi, x, num_points)\n",
    "            yvals = integrand(xvals)\n",
    "            integral = np.trapz(yvals, xvals)\n",
    "\n",
    "            # Compute the normalization constant\n",
    "            zvals = integrand(np.linspace(-np.pi, np.pi, num_points))\n",
    "            normalization = np.trapz(zvals, np.linspace(-np.pi, np.pi, num_points))\n",
    "\n",
    "            # Return the CDF\n",
    "            return integral / normalization\n",
    "        else:\n",
    "            cdf_values = []\n",
    "            for xi in x:\n",
    "                # Compute the numerical integral using the trapezoidal rule\n",
    "                xvals = np.linspace(-np.pi, xi, num_points)\n",
    "                yvals = integrand(xvals)\n",
    "                integral = np.trapz(yvals, xvals)\n",
    "\n",
    "                # Compute the normalization constant\n",
    "                zvals = integrand(np.linspace(-np.pi, np.pi, num_points))\n",
    "                normalization = np.trapz(zvals, np.linspace(-np.pi, np.pi, num_points))\n",
    "\n",
    "                # Append the CDF value to the list\n",
    "                cdf_values.append(integral / normalization)\n",
    "            return np.array(cdf_values)\n",
    "\n",
    "    def __init__(self,config,  **kwargs):\n",
    "        utils.EzPickle.__init__(self, config, **kwargs)\n",
    "\n",
    "        self._forward_reward_weight = config.get(\"forward_reward_weight\", 1.25)\n",
    "        self._ctrl_cost_weight = config.get(\"ctrl_cost_weight\", 0.1)\n",
    "        self._healthy_reward = config.get(\"healthy_reward\", 5.0)\n",
    "        self._terminate_when_unhealthy = config.get(\"terminate_when_unhealthy\", True)\n",
    "        self._healthy_z_range = config.get(\"healthy_z_range\", (0.5, 2.0))\n",
    "        # Set camera configuration\n",
    "        camera_config = DEFAULT_CAMERA_CONFIG.copy()\n",
    "        camera_config[\"trackbodyid\"] = 0  # use the body id of Cassie\n",
    "        camera_config[\"distance\"] = 4.0\n",
    "        camera_config[\"elevation\"] = -20.0\n",
    "\n",
    "\n",
    "\n",
    "        actuator_ranges = {\n",
    "            'left-hip-roll': [-4.5, 4.5],\n",
    "            'left-hip-yaw': [-4.5, 4.5],\n",
    "            'left-hip-pitch': [-12.2, 12.2],\n",
    "            'left-knee': [-12.2, 12.2],\n",
    "            'left-foot': [-0.9, 0.9],\n",
    "            'right-hip-roll': [-4.5, 4.5],\n",
    "            'right-hip-yaw': [-4.5, 4.5],\n",
    "            'right-hip-pitch': [-12.2, 12.2],\n",
    "            'right-knee': [-12.2, 12.2],\n",
    "            'right-foot': [-0.9, 0.9]\n",
    "        }\n",
    "        \n",
    "        # create the action space using the actuator ranges\n",
    "        low = [actuator_ranges[key][0] for key in actuator_ranges.keys()]\n",
    "        high = [actuator_ranges[key][1] for key in actuator_ranges.keys()]\n",
    "        self.action_space = gym.spaces.Box(np.array(low), np.array(high), dtype=np.float32)\n",
    "        self._reset_noise_scale = config.get(\"reset_noise_scale\", 1e-2)\n",
    "        self.phi = 0\n",
    "        self._exclude_current_positions_from_observation = config.get(\"exclude_current_positions_from_observation\", True)\n",
    "        self.steps =0\n",
    "        self.previous_action = np.zeros (10)\n",
    "        observation_space = Box(low=-np.inf, high=np.inf, shape=(31,), dtype=np.float64)\n",
    "        MujocoEnv.__init__(self, config.get(\"model_path\",\"cassie.xml\") ,20,render_mode=config.get(\"render_mode\",None), observation_space=observation_space, **kwargs)\n",
    "        # Set the lookat position to the robot's body position\n",
    "\n",
    "\n",
    "    @property\n",
    "    def healthy_reward(self):\n",
    "        return float(self.is_healthy or self._terminate_when_unhealthy) * self._healthy_reward\n",
    "\n",
    "    @property\n",
    "    def is_healthy(self):\n",
    "        min_z, max_z = self._healthy_z_range\n",
    "        is_healthy = min_z < self.data.qpos[2] < max_z\n",
    "\n",
    "        return is_healthy\n",
    "\n",
    "    @property\n",
    "    def terminated(self):\n",
    "        terminated = (not self.is_healthy) if (self._terminate_when_unhealthy or self.steps>MAX_STEPS)  else False\n",
    "        return terminated\n",
    "    def _get_obs(self):\n",
    "        '''The sensor data are the following \n",
    "        left-foot-input [-2.20025499]\n",
    "        left-foot-output [-0.0440051]\n",
    "        left-hip-pitch-input [0.03050987]\n",
    "        left-hip-roll-input [0.2013339]\n",
    "        left-hip-yaw-input [0.30352121]\n",
    "        left-knee-input [-12.57921603]\n",
    "        left-shin-output [-0.00254359]\n",
    "        left-tarsus-output [1.01621498]\n",
    "        pelvis-angular-velocity [-0.66091646  0.09304743 -0.14707221]\n",
    "        pelvis-linear-acceleration [  0.18789681 -11.51133484  -0.64882624]\n",
    "        pelvis-magnetometer [ 3.71266894e-04 -4.99997057e-01 -1.67494055e-03]\n",
    "        pelvis-orientation [ 9.99998508e-01 -1.67501875e-03  2.04083784e-04 -3.70925603e-04]\n",
    "        right-foot-input [-2.18139208]\n",
    "        right-foot-output [-0.04362784]\n",
    "        right-hip-pitch-input [0.00453772]\n",
    "        right-hip-roll-input [0.12788968]\n",
    "        right-hip-yaw-input [0.08293241]\n",
    "        right-knee-input [-12.53914917]\n",
    "        right-shin-output [-0.00094644]\n",
    "        right-tarsus-output [1.01240756]    \n",
    "        '''\n",
    "        p =np.array ([np.sin((2*np.pi*(self.phi+THETA_LEFT))/STEPS_IN_CYCLE),np.sin((2*np.pi*(self.phi+THETA_RIGHT))/STEPS_IN_CYCLE)])\n",
    "\n",
    "        #getting the read positions of the sensors and concatenate the lists\n",
    "        return np.concatenate([self.data.sensordata,p])\n",
    "\n",
    "    def get_pos(self):\n",
    "                \n",
    "        #Robot State\n",
    "        qpos = self.data.qpos.flat.copy()\n",
    "        qvel = self.data.qvel.flat.copy()\n",
    "\n",
    "        #Desired velocity\n",
    "\n",
    "\n",
    "        #Phase ratios and clock inputs\n",
    "\n",
    "        #p = {sin(2pi(phi+theta_left)/L),sin(2pi(phi+theta_right)/L)} where L is the number of timesteps in each period\n",
    "        p = (np.sin((2*np.pi*(self.phi+THETA_LEFT))/STEPS_IN_CYCLE),np.sin((2*np.pi*(self.phi+THETA_RIGHT))/STEPS_IN_CYCLE))\n",
    "        '''\n",
    "\t\tPosition [1], [2] \t\t\t\t-> Pelvis y, z\n",
    "\t\t\t\t [3], [4], [5], [6] \t-> Pelvis Orientation qw, qx, qy, qz\n",
    "\t\t\t\t [7], [8], [9]\t\t\t-> Left Hip Roll (Motor[0]), Yaw (Motor[1]), Pitch (Motor[2])\n",
    "\t\t\t\t [14]\t\t\t\t\t-> Left Knee   \t(Motor[3])\n",
    "\t\t\t\t [15]\t\t\t\t\t-> Left Shin   \t(Joint[0])\n",
    "\t\t\t\t [16]\t\t\t\t\t-> Left Tarsus \t(Joint[1])\n",
    "\t\t\t\t [20]\t\t\t\t\t-> Left Foot   \t(Motor[4], Joint[2])\n",
    "\t\t\t\t [21], [22], [23]\t\t-> Right Hip Roll (Motor[5]), Yaw (Motor[6]), Pitch (Motor[7])\n",
    "\t\t\t\t [28]\t\t\t\t\t-> Rigt Knee   \t(Motor[8])\n",
    "\t\t\t\t [29]\t\t\t\t\t-> Rigt Shin   \t(Joint[3])\n",
    "\t\t\t\t [30]\t\t\t\t\t-> Rigt Tarsus \t(Joint[4])\n",
    "\t\t\t\t [34]\t\t\t\t\t-> Rigt Foot   \t(Motor[9], Joint[5])\n",
    "\t\t''' \n",
    "        pos_index = np.array([1,2,3,4,5,6,7,8,9,14,15,16,20,21,22,23,28,29,30,34])\n",
    "        \n",
    "        '''\n",
    "\t\tVelocity [0], [1], [2] \t\t\t-> Pelvis x, y, z\n",
    "\t\t\t\t [3], [4], [5]\t\t \t-> Pelvis Orientation wx, wy, wz\n",
    "\t\t\t\t [6], [7], [8]\t\t\t-> Left Hip Roll (Motor[0]), Yaw (Motor[1]), Pitch (Motor[2])\n",
    "\t\t\t\t [12]\t\t\t\t\t-> Left Knee   \t(Motor[3])\n",
    "\t\t\t\t [13]\t\t\t\t\t-> Left Shin   \t(Joint[0])\n",
    "\t\t\t\t [14]\t\t\t\t\t-> Left Tarsus \t(Joint[1])\n",
    "\t\t\t\t [18]\t\t\t\t\t-> Left Foot   \t(Motor[4], Joint[2])\n",
    "\t\t\t\t [19], [20], [21]\t\t-> Right Hip Roll (Motor[5]), Yaw (Motor[6]), Pitch (Motor[7])\n",
    "\t\t\t\t [25]\t\t\t\t\t-> Rigt Knee   \t(Motor[8])\n",
    "\t\t\t\t [26]\t\t\t\t\t-> Rigt Shin   \t(Joint[3])\n",
    "\t\t\t\t [27]\t\t\t\t\t-> Rigt Tarsus \t(Joint[4])\n",
    "\t\t\t\t [31]\t\t\t\t\t-> Rigt Foot   \t(Motor[9], Joint[5])\n",
    "\t\t''' \n",
    "        vel_index = np.array([0,1,2,3,4,5,6,7,8,12,13,14,18,19,20,21,25,26,27,31])\n",
    "        return np.concatenate([qpos[pos_index], qvel[vel_index],[p[0],p[1]]])\n",
    "    \n",
    "\n",
    "    def von_mises(a,kappa,phi ):\n",
    "        vm = torch.distributions.von_mises(a,kappa)\n",
    "        return vm.cdf(phi)\n",
    "    \n",
    "    def compute_reward(self,action):\n",
    "\n",
    "        # Extract some proxies\n",
    "        qpos = self.data.qpos.flat.copy()\n",
    "        qvel = self.data.qvel.flat.copy()\n",
    "        pos_index = np.array([1,2,3,4,5,6,7,8,9,14,15,16,20,21,22,23,28,29,30,34])\n",
    "        vel_index = np.array([0,1,2,3,4,5,6,7,8,12,13,14,18,19,20,21,25,26,27,31])\n",
    "        \n",
    "        qpos = qpos[pos_index]\n",
    "        qvel=qvel[vel_index]\n",
    "\n",
    "\n",
    "        #Feet Contact Forces \n",
    "        contact_force_right_foot = np.zeros(6)\n",
    "        m.mj_contactForce(self.model,self.data,0,contact_force_right_foot)\n",
    "        contact_force_left_foot = np.zeros(6)\n",
    "        m.mj_contactForce(self.model,self.data,1,contact_force_left_foot)\n",
    "\n",
    "\n",
    "        # Update previous position\n",
    "\n",
    "        ######## Odometry xy reward ########\n",
    "        q_vx = 1-np.exp(-2*OMEGA*np.linalg.norm(np.array([qvel[0]]) - np.array([X_VEL]))**2)\n",
    "        ################\n",
    "\n",
    "        ######## Odometry xy reward ########\n",
    "        q_vy = 1-np.exp(-2*OMEGA*np.linalg.norm(np.array([qvel[2]]) - np.array([Z_VEL]))**2)\n",
    "        ################\n",
    "\n",
    "        q_left_frc = 1.0 - np.exp(-OMEGA * np.linalg.norm(contact_force_left_foot)**2/4000)\n",
    "        q_right_frc = 1.0 - np.exp(-OMEGA * np.linalg.norm(contact_force_right_foot)**2/4000)\n",
    "        q_left_spd = 1.0 - np.exp(-OMEGA * np.linalg.norm(qvel[12])**2)\n",
    "        q_right_spd = 1.0 - np.exp(-OMEGA * np.linalg.norm(qvel[19])**2)\n",
    "        \n",
    "\n",
    "        q_action_diff = 1 - np.exp(-5*np.linalg.norm(action-self.previous_action))\n",
    "        q_orientation = 1 -np.exp(-3*(1-((self.data.sensor('pelvis-orientation').data.T)@(FORWARD_QUARTERNIONS))**2))\n",
    "        q_torque = 1 - np.exp(-0.05*np.linalg.norm(action))\n",
    "        q_pelvis_acc = 1 - np.exp(-0.10*(np.linalg.norm(self.data.sensor('pelvis-angular-velocity').data) + np.linalg.norm(self.data.sensor('pelvis-linear-acceleration').data)))\n",
    "        \n",
    "\n",
    "        I = lambda phi,a,b : self.vm_cdf(phi,a,KAPPA)*(1-self.vm_cdf(phi,b,KAPPA))\n",
    "\n",
    "        I_swing_frc = lambda phi : I(phi,a_swing,b_swing)\n",
    "        I_swing_spd = lambda phi : I(phi, a_swing,b_swing)\n",
    "        I_stance_spd = lambda phi : I(phi, a_stance,b_stance)\n",
    "        I_stance_frc = lambda phi : I(phi, a_stance,b_stance)\n",
    "        C_frc = lambda phi : c_swing_frc * I_swing_frc(phi) + c_stance_frc * I_stance_frc(phi) + c_stance_frc * I_stance_frc(phi)\n",
    "\n",
    "        C_spd = lambda phi :  c_swing_spd * I_swing_spd(phi) + c_stance_spd * I_stance_spd(phi)\n",
    "        \n",
    "        R_cmd = -1.0*q_vx-1.0*q_vy-1.0*q_orientation\n",
    "\n",
    "        R_smooth = -1.0*q_action_diff - 1.0* q_torque - 1.0*q_pelvis_acc\n",
    "\n",
    "\n",
    "        R_biped = 0\n",
    "        R_biped += C_frc(self.phi+THETA_LEFT) * q_left_frc\n",
    "        R_biped += C_frc(self.phi+THETA_RIGHT) * q_right_frc\n",
    "        R_biped += C_spd(self.phi+THETA_LEFT) * q_left_spd\n",
    "        R_biped += C_spd(self.phi+THETA_RIGHT) * q_right_spd\n",
    "\n",
    "        reward = 1.5  + 0.5 * R_biped  +  0.375* R_cmd +  0.125* R_smooth\n",
    "        #store all used values with their names in a dictionary\n",
    "        self.rewards = {\n",
    "            'R_biped': R_biped,\n",
    "            'R_cmd': R_cmd,\n",
    "            'R_smooth': R_smooth,\n",
    "            'q_vx': q_vx,\n",
    "            'q_vy': q_vy,\n",
    "            'q_orientation': q_orientation,\n",
    "            'q_action_diff': q_action_diff,\n",
    "            'q_torque': q_torque,\n",
    "            'q_pelvis_acc': q_pelvis_acc,\n",
    "            'q_left_frc': q_left_frc,\n",
    "            'q_right_frc': q_right_frc,\n",
    "            'q_left_spd': q_left_spd,\n",
    "            'q_right_spd': q_right_spd,\n",
    "            'reward': reward,\n",
    "            'contact_force_left_foot': np.linalg.norm(contact_force_left_foot)**2/4000\n",
    "        }\n",
    "        return reward\n",
    "    \n",
    "\n",
    "    def step(self, action):\n",
    "        #clip the action to the ranges in action_space\n",
    "        action = np.clip(action, self.action_space.low, self.action_space.high)\n",
    "        \n",
    "        self.do_simulation(action, self.frame_skip)\n",
    "\n",
    "\n",
    "        observation = self._get_obs()\n",
    "        \n",
    "        reward = self.compute_reward(action)\n",
    "\n",
    "        terminated = self.terminated\n",
    "\n",
    "        self.steps +=1 \n",
    "        self.phi+= 1.0/STEPS_IN_CYCLE\n",
    "        self.phi = self.phi % 1 \n",
    "\n",
    "        if self.render_mode == \"human\":\n",
    "            self.render()\n",
    "        self.previous_action = action \n",
    "        return observation, reward, terminated, False, {}\n",
    "\n",
    "    def reset_model(self):\n",
    "\n",
    "        m.mj_inverse(self.model, self.data)\n",
    "        noise_low = -self._reset_noise_scale\n",
    "        noise_high = self._reset_noise_scale\n",
    "        self.previous_action = np.zeros (10)\n",
    "        self.phi = 0 \n",
    "        self.steps = 0 \n",
    "        \n",
    "        qpos = self.init_qpos + self.np_random.uniform(low=noise_low, high=noise_high, size=self.model.nq)\n",
    "        qvel = self.init_qvel + self.np_random.uniform(low=noise_low, high=noise_high, size=self.model.nv)\n",
    "        self.set_state(qpos, qvel)\n",
    "\n",
    "        observation = self._get_obs()\n",
    "        return observation"
   ]
  },
  {
   "cell_type": "code",
   "execution_count": null,
   "metadata": {},
   "outputs": [
    {
     "name": "stdout",
     "output_type": "stream",
     "text": [
      "Requirement already satisfied: opencv-python in /home/ajvendetta/.pyenv/versions/3.8.16/envs/cassie/lib/python3.8/site-packages (4.7.0.72)\n",
      "Requirement already satisfied: numpy>=1.17.3 in /home/ajvendetta/.pyenv/versions/3.8.16/envs/cassie/lib/python3.8/site-packages (from opencv-python) (1.23.5)\n",
      "Note: you may need to restart the kernel to use updated packages.\n"
     ]
    }
   ],
   "source": [
    "pip install opencv-python"
   ]
  },
  {
   "cell_type": "code",
   "execution_count": null,
   "metadata": {},
   "outputs": [
    {
     "name": "stderr",
     "output_type": "stream",
     "text": [
      "/home/ajvendetta/.pyenv/versions/3.8.16/envs/cassie/lib/python3.8/site-packages/gymnasium/spaces/box.py:127: UserWarning: \u001b[33mWARN: Box bound precision lowered by casting to float32\u001b[0m\n",
      "  logger.warn(f\"Box bound precision lowered by casting to {self.dtype}\")\n"
     ]
    },
    {
     "data": {
      "text/plain": [
       "True"
      ]
     },
     "execution_count": 8,
     "metadata": {},
     "output_type": "execute_result"
    }
   ],
   "source": [
    "import cv2\n",
    "cassie = CassieEnv({})\n",
    "\n",
    "cassie.reset()\n",
    "cassie.render_mode = \"rgb_array\"\n",
    "frame = cassie.render()\n",
    "cassie.step(np.zeros(10))\n",
    "#save the image to a file\n",
    "cv2.imwrite(\"cassie.png\", frame)"
   ]
  },
  {
   "cell_type": "code",
   "execution_count": null,
   "metadata": {},
   "outputs": [
    {
     "data": {
      "text/plain": [
       "True"
      ]
     },
     "execution_count": 9,
     "metadata": {},
     "output_type": "execute_result"
    }
   ],
   "source": [
    "cassie.reset()\n",
    "cassie.render_mode = \"rgb_array\"\n",
    "#step a random amount in the range of cassie.action_space\n",
    "for i in range(np.random.randint(0, 100)):\n",
    "    cassie.step(cassie.action_space.sample())\n",
    "frame = cassie.render()\n",
    "#save the image to a file\n",
    "cv2.imwrite(\"cassie.png\", frame)"
   ]
  },
  {
   "cell_type": "code",
   "execution_count": null,
   "metadata": {},
   "outputs": [
    {
     "name": "stdout",
     "output_type": "stream",
     "text": [
      "PPO_cassie-v0_2023-04-01_23-13-38kvvl9xaa\n",
      "/home/ajvendetta/ray_results/PPO_cassie-v0_2023-04-01_23-13-38kvvl9xaa/checkpoint_000025/\n"
     ]
    }
   ],
   "source": [
    "import os\n",
    "log_dir = \"/home/ajvendetta/ray_results\"\n",
    "sim_dir = \"./sim/\"\n",
    "#load the trainer from the latest checkpoint if exists \n",
    "#get the full directory of latest modified directory in the log_dir \n",
    "if(os.path.exists(log_dir)):\n",
    "    latest_log_directory = max([d for d in os.listdir(log_dir) if d.startswith(\"PPO_\")], default=0)\n",
    "    print(latest_log_directory)\n",
    "\n",
    "    #get the latest directory in the latest log directory\n",
    "    latest_directory = max([d.split(\"_\")[-1] for d in os.listdir(os.path.join(log_dir, latest_log_directory)) if d.startswith(\"checkpoint\")], default=0)\n",
    "    #load the trainer from the latest checkpoint\n",
    "    checkpoint_path = os.path.join(log_dir, latest_log_directory, \"checkpoint_{}/\".format(latest_directory, latest_directory))\n",
    "    print(checkpoint_path)\n"
   ]
  },
  {
   "cell_type": "code",
   "execution_count": null,
   "metadata": {},
   "outputs": [
    {
     "name": "stderr",
     "output_type": "stream",
     "text": [
      "2023-04-02 03:58:05,897\tINFO worker.py:1553 -- Started a local Ray instance.\n"
     ]
    }
   ],
   "source": [
    "#register the environment in rllib \n",
    "\n",
    "#import the necessary libraries to initialize ray and register_env\n",
    "\n",
    "from ray.tune.registry import register_env\n",
    "\n",
    "\n",
    "#initialize ray and choose the log directory\n",
    "\n",
    "import ray\n",
    "\n",
    "ray.init(ignore_reinit_error=True)\n",
    "\n",
    "register_env(\"cassie-v0\", lambda config: CassieEnv(config))\n",
    "\n"
   ]
  },
  {
   "cell_type": "code",
   "execution_count": null,
   "metadata": {},
   "outputs": [
    {
     "name": "stderr",
     "output_type": "stream",
     "text": [
      "/home/ajvendetta/.pyenv/versions/3.8.16/envs/cassie/lib/python3.8/site-packages/gymnasium/spaces/box.py:127: UserWarning: \u001b[33mWARN: Box bound precision lowered by casting to float32\u001b[0m\n",
      "  logger.warn(f\"Box bound precision lowered by casting to {self.dtype}\")\n"
     ]
    }
   ],
   "source": [
    "cassie = CassieEnv({})"
   ]
  },
  {
   "cell_type": "code",
   "execution_count": null,
   "metadata": {},
   "outputs": [
    {
     "data": {
      "text/plain": [
       "(array([-1.74018134e-01, -2.20206125e-01, -4.94359663e-02, -1.24863704e+01,\n",
       "        -4.59952617e-01, -6.69698287e-03,  1.01347103e+00, -9.19905234e-03,\n",
       "        -6.29523314e-02, -4.06645590e-03, -1.50091541e-01, -1.25827504e+01,\n",
       "        -3.31208742e-01,  2.27220315e-03,  1.00512745e+00, -6.62417485e-03,\n",
       "         9.99945355e-01,  9.54306917e-03, -1.77271991e-03,  3.88257119e-03,\n",
       "        -4.98203621e-03,  8.06150369e-03,  8.85159187e-03,  1.96654486e+00,\n",
       "         4.21935361e-01, -8.42451126e-01, -3.86544184e-03, -4.99893855e-01,\n",
       "         9.54943040e-03,  1.04528463e-01,  0.00000000e+00]),\n",
       " {})"
      ]
     },
     "execution_count": 13,
     "metadata": {},
     "output_type": "execute_result"
    }
   ],
   "source": [
    "cassie.reset()"
   ]
  },
  {
   "cell_type": "code",
   "execution_count": null,
   "metadata": {},
   "outputs": [],
   "source": [
    "cassie.render_mode = \"human\""
   ]
  },
  {
   "cell_type": "code",
   "execution_count": null,
   "metadata": {},
   "outputs": [],
   "source": [
    "cassie.render()"
   ]
  },
  {
   "cell_type": "code",
   "execution_count": null,
   "metadata": {},
   "outputs": [],
   "source": [
    "config = {\n",
    "    \"framework\": \"torch\",\n",
    "    \"log_level\" : \"WARN\",\n",
    "    \"num_gpus\": 1,\n",
    "    \"num_cpus\": 12,\n",
    "    \"num_workers\": 6,\n",
    "    \"num_envs_per_worker\": 1,\n",
    "    \"rollout_fragment_length\": 200,\n",
    "    \"train_batch_size\": 32000,\n",
    "    \"sgd_minibatch_size\": 8000,\n",
    "    \"num_sgd_iter\": 10,\n",
    "    \"lr\": 0.0003,\n",
    "    \"optimizer\": {\n",
    "        \"type\": \"Adam\",\n",
    "        \"lr\": 3e-4,\n",
    "        \"epsilon\": 1e-5\n",
    "    },\n",
    "    \"model\": {\n",
    "        \"conv_filters\": None,\n",
    "        \"fcnet_activation\": \"relu\",\n",
    "        \"fcnet_hiddens\": [256, 256],\n",
    "        \"use_lstm\": False,\n",
    "        \"vf_share_layers\": False,\n",
    "        \"free_log_std\": True\n",
    "\n",
    "    },\n",
    "    \n",
    "    \"entropy_coeff\": 0.01,\n",
    "    \"gamma\": 0.99,\n",
    "    \"lambda\": 0.95,\n",
    "    \"kl_coeff\": 0.5,\n",
    "    \"clip_param\": 0.2,\n",
    "    \"vf_clip_param\": 10.0,\n",
    "    \"grad_clip\": 0.5,\n",
    "    \"kl_target\": 0.01,\n",
    "    \"batch_mode\": \"truncate_episodes\",\n",
    "    \"observation_filter\": \"NoFilter\",\n",
    "    \"reuse_actors\": True,\n",
    "    \"disable_env_checking\" : True,\n",
    "    \"num_gpus_per_worker\": 0.1,\n",
    "    \"num_cpus_per_worker\": 1,\n",
    "    \"evaluation_config\": {\n",
    "        \"explore\": True,\n",
    "        \"evaluation_interval\": 10,\n",
    "        \"evaluation_num_episodes\": 20\n",
    "\n",
    "    }\n",
    "}\n"
   ]
  },
  {
   "cell_type": "code",
   "execution_count": null,
   "metadata": {},
   "outputs": [],
   "source": [
    "from ray.rllib.agents.ppo import PPOTrainer"
   ]
  },
  {
   "cell_type": "code",
   "execution_count": null,
   "metadata": {},
   "outputs": [],
   "source": [
    "import tensorflow as tf"
   ]
  },
  {
   "cell_type": "code",
   "execution_count": null,
   "metadata": {},
   "outputs": [],
   "source": [
    "import tensorboard"
   ]
  },
  {
   "cell_type": "code",
   "execution_count": null,
   "metadata": {},
   "outputs": [
    {
     "data": {
      "text/plain": [
       "(array([ 2.34104992e-01,  1.41851010e-01,  6.73071689e-02, -1.24841845e+01,\n",
       "         2.48031870e-02,  8.85287979e-03,  1.01638105e+00,  4.96063740e-04,\n",
       "         1.18489834e-01, -1.92762848e-01, -7.58632494e-02, -1.27119210e+01,\n",
       "        -2.43803244e-01, -8.73171301e-04,  1.00480860e+00, -4.87606488e-03,\n",
       "         9.99959656e-01,  6.67519539e-04, -5.77706950e-04,  8.93903533e-03,\n",
       "         6.15379601e-03,  9.94077074e-03, -2.15602841e-04, -1.49358113e+00,\n",
       "        -1.00556440e+00,  1.58064707e+00, -8.93828907e-03, -4.99919648e-01,\n",
       "         6.72656752e-04,  1.04528463e-01,  0.00000000e+00]),\n",
       " {})"
      ]
     },
     "execution_count": 21,
     "metadata": {},
     "output_type": "execute_result"
    }
   ],
   "source": [
    "cassie.reset()"
   ]
  },
  {
   "cell_type": "code",
   "execution_count": null,
   "metadata": {},
   "outputs": [
    {
     "data": {
      "text/plain": [
       "(array([ 2.49637968e-01,  1.42078399e-01,  1.38275658e-01, -1.24105211e+01,\n",
       "        -2.19304407e+00, -4.61605215e-03,  1.01788849e+00, -4.38608815e-02,\n",
       "         1.32404684e-01, -1.91373904e-01, -1.10783732e-01, -1.27277296e+01,\n",
       "        -2.43581665e+00,  2.20254220e-03,  1.00922897e+00, -4.87163331e-02,\n",
       "         9.99955386e-01,  5.57336506e-04, -8.51725389e-04,  9.39097942e-03,\n",
       "        -2.45826110e-02, -9.69868199e-03,  9.73017228e-02,  5.18772096e-01,\n",
       "         4.71202259e-01,  2.44575486e-01, -9.39008575e-03, -4.99911499e-01,\n",
       "         5.65310177e-04,  1.04528463e-01,  0.00000000e+00]),\n",
       " 1.0585963586534275,\n",
       " False,\n",
       " False,\n",
       " {})"
      ]
     },
     "execution_count": 22,
     "metadata": {},
     "output_type": "execute_result"
    }
   ],
   "source": [
    "cassie.step([0,0,0,0,0,0,0,0,0,0])"
   ]
  },
  {
   "cell_type": "code",
   "execution_count": null,
   "metadata": {},
   "outputs": [],
   "source": [
    "import torch\n",
    "torch.cuda.empty_cache()"
   ]
  },
  {
   "cell_type": "code",
   "execution_count": null,
   "metadata": {},
   "outputs": [
    {
     "name": "stderr",
     "output_type": "stream",
     "text": [
      "2023-04-02 03:58:19,563\tWARNING algorithm_config.py:596 -- Cannot create PPOConfig from given `config_dict`! Property num_cpus not supported.\n",
      "2023-04-02 03:58:19,564\tWARNING deprecation.py:50 -- DeprecationWarning: `algo = Algorithm(env='cassie-v0', ...)` has been deprecated. Use `algo = AlgorithmConfig().environment('cassie-v0').build()` instead. This will raise an error in the future!\n",
      "2023-04-02 03:58:19,586\tINFO algorithm.py:506 -- Current log_level is WARN. For more information, set 'log_level': 'INFO' / 'DEBUG' or use the -v and -vv flags.\n",
      "\u001b[2m\u001b[36m(RolloutWorker pid=20547)\u001b[0m /home/ajvendetta/.pyenv/versions/3.8.16/envs/cassie/lib/python3.8/site-packages/gymnasium/spaces/box.py:127: UserWarning: \u001b[33mWARN: Box bound precision lowered by casting to float32\u001b[0m\n",
      "\u001b[2m\u001b[36m(RolloutWorker pid=20547)\u001b[0m   logger.warn(f\"Box bound precision lowered by casting to {self.dtype}\")\n",
      "\u001b[2m\u001b[36m(RolloutWorker pid=20549)\u001b[0m /home/ajvendetta/.pyenv/versions/3.8.16/envs/cassie/lib/python3.8/site-packages/gymnasium/spaces/box.py:127: UserWarning: \u001b[33mWARN: Box bound precision lowered by casting to float32\u001b[0m\n",
      "\u001b[2m\u001b[36m(RolloutWorker pid=20549)\u001b[0m   logger.warn(f\"Box bound precision lowered by casting to {self.dtype}\")\n",
      "\u001b[2m\u001b[36m(RolloutWorker pid=20548)\u001b[0m /home/ajvendetta/.pyenv/versions/3.8.16/envs/cassie/lib/python3.8/site-packages/gymnasium/spaces/box.py:127: UserWarning: \u001b[33mWARN: Box bound precision lowered by casting to float32\u001b[0m\n",
      "\u001b[2m\u001b[36m(RolloutWorker pid=20548)\u001b[0m   logger.warn(f\"Box bound precision lowered by casting to {self.dtype}\")\n",
      "\u001b[2m\u001b[36m(RolloutWorker pid=20550)\u001b[0m /home/ajvendetta/.pyenv/versions/3.8.16/envs/cassie/lib/python3.8/site-packages/gymnasium/spaces/box.py:127: UserWarning: \u001b[33mWARN: Box bound precision lowered by casting to float32\u001b[0m\n",
      "\u001b[2m\u001b[36m(RolloutWorker pid=20550)\u001b[0m   logger.warn(f\"Box bound precision lowered by casting to {self.dtype}\")\n",
      "\u001b[2m\u001b[36m(RolloutWorker pid=20552)\u001b[0m /home/ajvendetta/.pyenv/versions/3.8.16/envs/cassie/lib/python3.8/site-packages/gymnasium/spaces/box.py:127: UserWarning: \u001b[33mWARN: Box bound precision lowered by casting to float32\u001b[0m\n",
      "\u001b[2m\u001b[36m(RolloutWorker pid=20552)\u001b[0m   logger.warn(f\"Box bound precision lowered by casting to {self.dtype}\")\n",
      "\u001b[2m\u001b[36m(RolloutWorker pid=20554)\u001b[0m /home/ajvendetta/.pyenv/versions/3.8.16/envs/cassie/lib/python3.8/site-packages/gymnasium/spaces/box.py:127: UserWarning: \u001b[33mWARN: Box bound precision lowered by casting to float32\u001b[0m\n",
      "\u001b[2m\u001b[36m(RolloutWorker pid=20554)\u001b[0m   logger.warn(f\"Box bound precision lowered by casting to {self.dtype}\")\n",
      "\u001b[2m\u001b[36m(RolloutWorker pid=21560)\u001b[0m /home/ajvendetta/.pyenv/versions/3.8.16/envs/cassie/lib/python3.8/site-packages/gymnasium/spaces/box.py:127: UserWarning: \u001b[33mWARN: Box bound precision lowered by casting to float32\u001b[0m\n",
      "\u001b[2m\u001b[36m(RolloutWorker pid=21560)\u001b[0m   logger.warn(f\"Box bound precision lowered by casting to {self.dtype}\")\n",
      "2023-04-02 03:58:31,313\tWARNING deprecation.py:50 -- DeprecationWarning: `AlgorithmConfig.evaluation(evaluation_num_episodes=..)` has been deprecated. Use `AlgorithmConfig.evaluation(evaluation_duration=.., evaluation_duration_unit='episodes')` instead. This will raise an error in the future!\n",
      "/home/ajvendetta/.pyenv/versions/3.8.16/envs/cassie/lib/python3.8/site-packages/gymnasium/spaces/box.py:127: UserWarning: \u001b[33mWARN: Box bound precision lowered by casting to float32\u001b[0m\n",
      "  logger.warn(f\"Box bound precision lowered by casting to {self.dtype}\")\n",
      "2023-04-02 03:58:31,513\tINFO trainable.py:172 -- Trainable.setup took 11.928 seconds. If your trainable is slow to initialize, consider setting reuse_actors=True to reduce actor creation overheads.\n",
      "2023-04-02 03:58:31,514\tWARNING util.py:67 -- Install gputil for GPU system monitoring.\n"
     ]
    }
   ],
   "source": [
    "trainer = PPOTrainer(config=config, env=\"cassie-v0\")\n",
    "#load the trainer from the latest checkpoint if exists\n"
   ]
  },
  {
   "cell_type": "code",
   "execution_count": null,
   "metadata": {},
   "outputs": [
    {
     "name": "stderr",
     "output_type": "stream",
     "text": [
      "2023-04-02 03:58:31,596\tWARNING deprecation.py:50 -- DeprecationWarning: `algo = Algorithm(env='cassie-v0', ...)` has been deprecated. Use `algo = AlgorithmConfig().environment('cassie-v0').build()` instead. This will raise an error in the future!\n",
      "\u001b[2m\u001b[36m(RolloutWorker pid=21838)\u001b[0m /home/ajvendetta/.pyenv/versions/3.8.16/envs/cassie/lib/python3.8/site-packages/gymnasium/spaces/box.py:127: UserWarning: \u001b[33mWARN: Box bound precision lowered by casting to float32\u001b[0m\n",
      "\u001b[2m\u001b[36m(RolloutWorker pid=21838)\u001b[0m   logger.warn(f\"Box bound precision lowered by casting to {self.dtype}\")\n",
      "\u001b[2m\u001b[36m(RolloutWorker pid=21865)\u001b[0m /home/ajvendetta/.pyenv/versions/3.8.16/envs/cassie/lib/python3.8/site-packages/gymnasium/spaces/box.py:127: UserWarning: \u001b[33mWARN: Box bound precision lowered by casting to float32\u001b[0m\n",
      "\u001b[2m\u001b[36m(RolloutWorker pid=21865)\u001b[0m   logger.warn(f\"Box bound precision lowered by casting to {self.dtype}\")\n",
      "\u001b[2m\u001b[36m(RolloutWorker pid=21889)\u001b[0m /home/ajvendetta/.pyenv/versions/3.8.16/envs/cassie/lib/python3.8/site-packages/gymnasium/spaces/box.py:127: UserWarning: \u001b[33mWARN: Box bound precision lowered by casting to float32\u001b[0m\n",
      "\u001b[2m\u001b[36m(RolloutWorker pid=21889)\u001b[0m   logger.warn(f\"Box bound precision lowered by casting to {self.dtype}\")\n",
      "\u001b[2m\u001b[36m(RolloutWorker pid=21890)\u001b[0m /home/ajvendetta/.pyenv/versions/3.8.16/envs/cassie/lib/python3.8/site-packages/gymnasium/spaces/box.py:127: UserWarning: \u001b[33mWARN: Box bound precision lowered by casting to float32\u001b[0m\n",
      "\u001b[2m\u001b[36m(RolloutWorker pid=21890)\u001b[0m   logger.warn(f\"Box bound precision lowered by casting to {self.dtype}\")\n",
      "\u001b[2m\u001b[36m(RolloutWorker pid=23084)\u001b[0m /home/ajvendetta/.pyenv/versions/3.8.16/envs/cassie/lib/python3.8/site-packages/gymnasium/spaces/box.py:127: UserWarning: \u001b[33mWARN: Box bound precision lowered by casting to float32\u001b[0m\n",
      "\u001b[2m\u001b[36m(RolloutWorker pid=23084)\u001b[0m   logger.warn(f\"Box bound precision lowered by casting to {self.dtype}\")\n",
      "2023-04-02 03:59:04,045\tWARNING worker.py:1866 -- A worker died or was killed while executing a task by an unexpected system error. To troubleshoot the problem, check the logs for the dead worker. RayTask ID: ffffffffffffffff26bb7bb249d4c5208aed50b701000000 Worker ID: e48e1e1b63e9a2b6b4f5aa3ad02bdd2430488ab43683a7e4f4728b48 Node ID: fd1ecc358b9eca01d539f04af816f58bba283e5b613adc5df52f0891 Worker IP address: 129.104.243.74 Worker port: 36391 Worker PID: 20550 Worker exit type: SYSTEM_ERROR Worker exit detail: Worker unexpectedly exits with a connection error code 2. End of file. There are some potential root causes. (1) The process is killed by SIGKILL by OOM killer due to high memory usage. (2) ray stop --force is called. (3) The worker is crashed unexpectedly due to SIGSEGV or other unexpected errors.\n",
      "\u001b[2m\u001b[33m(raylet)\u001b[0m [2023-04-02 03:59:06,079 E 18896 18896] (raylet) node_manager.cc:3040: 35 Workers (tasks / actors) killed due to memory pressure (OOM), 0 Workers crashed due to other reasons at node (ID: fd1ecc358b9eca01d539f04af816f58bba283e5b613adc5df52f0891, IP: 129.104.243.74) over the last time period. To see more information about the Workers killed on this node, use `ray logs raylet.out -ip 129.104.243.74`\n",
      "\u001b[2m\u001b[33m(raylet)\u001b[0m \n",
      "\u001b[2m\u001b[33m(raylet)\u001b[0m Refer to the documentation on how to address the out of memory issue: https://docs.ray.io/en/latest/ray-core/scheduling/ray-oom-prevention.html. Consider provisioning more memory on this node or reducing task parallelism by requesting more CPUs per task. To adjust the kill threshold, set the environment variable `RAY_memory_usage_threshold` when starting Ray. To disable worker killing, set the environment variable `RAY_memory_monitor_refresh_ms` to zero.\n",
      "\u001b[2m\u001b[36m(RolloutWorker pid=23998)\u001b[0m /home/ajvendetta/.pyenv/versions/3.8.16/envs/cassie/lib/python3.8/site-packages/gymnasium/spaces/box.py:127: UserWarning: \u001b[33mWARN: Box bound precision lowered by casting to float32\u001b[0m\n",
      "\u001b[2m\u001b[36m(RolloutWorker pid=23998)\u001b[0m   logger.warn(f\"Box bound precision lowered by casting to {self.dtype}\")\n",
      "2023-04-02 03:59:34,949\tWARNING worker.py:1866 -- A worker died or was killed while executing a task by an unexpected system error. To troubleshoot the problem, check the logs for the dead worker. RayTask ID: ffffffffffffffffe6e41d9c45856fbb14d5822201000000 Worker ID: 44d23a776cf394d4f12cdb60efe12786f29d2468b5008be856a1e554 Node ID: fd1ecc358b9eca01d539f04af816f58bba283e5b613adc5df52f0891 Worker IP address: 129.104.243.74 Worker port: 38445 Worker PID: 23084 Worker exit type: SYSTEM_ERROR Worker exit detail: Worker unexpectedly exits with a connection error code 2. End of file. There are some potential root causes. (1) The process is killed by SIGKILL by OOM killer due to high memory usage. (2) ray stop --force is called. (3) The worker is crashed unexpectedly due to SIGSEGV or other unexpected errors.\n",
      "\u001b[2m\u001b[36m(RolloutWorker pid=25414)\u001b[0m /home/ajvendetta/.pyenv/versions/3.8.16/envs/cassie/lib/python3.8/site-packages/gymnasium/spaces/box.py:127: UserWarning: \u001b[33mWARN: Box bound precision lowered by casting to float32\u001b[0m\n",
      "\u001b[2m\u001b[36m(RolloutWorker pid=25414)\u001b[0m   logger.warn(f\"Box bound precision lowered by casting to {self.dtype}\")\n",
      "\u001b[2m\u001b[36m(RolloutWorker pid=25601)\u001b[0m /home/ajvendetta/.pyenv/versions/3.8.16/envs/cassie/lib/python3.8/site-packages/gymnasium/spaces/box.py:127: UserWarning: \u001b[33mWARN: Box bound precision lowered by casting to float32\u001b[0m\n",
      "\u001b[2m\u001b[36m(RolloutWorker pid=25601)\u001b[0m   logger.warn(f\"Box bound precision lowered by casting to {self.dtype}\")\n",
      "2023-04-02 03:59:48,201\tWARNING worker.py:1866 -- A worker died or was killed while executing a task by an unexpected system error. To troubleshoot the problem, check the logs for the dead worker. RayTask ID: ffffffffffffffff0ba89ccca7d4a4ed40467dbf01000000 Worker ID: 16a91ce5bfc9c58ae1645dcda6b216476744e2e9c7fcd7ba80165b5f Node ID: fd1ecc358b9eca01d539f04af816f58bba283e5b613adc5df52f0891 Worker IP address: 129.104.243.74 Worker port: 39523 Worker PID: 23998 Worker exit type: SYSTEM_ERROR Worker exit detail: Worker unexpectedly exits with a connection error code 2. End of file. There are some potential root causes. (1) The process is killed by SIGKILL by OOM killer due to high memory usage. (2) ray stop --force is called. (3) The worker is crashed unexpectedly due to SIGSEGV or other unexpected errors.\n",
      "\u001b[2m\u001b[36m(RolloutWorker pid=26782)\u001b[0m /home/ajvendetta/.pyenv/versions/3.8.16/envs/cassie/lib/python3.8/site-packages/gymnasium/spaces/box.py:127: UserWarning: \u001b[33mWARN: Box bound precision lowered by casting to float32\u001b[0m\n",
      "\u001b[2m\u001b[36m(RolloutWorker pid=26782)\u001b[0m   logger.warn(f\"Box bound precision lowered by casting to {self.dtype}\")\n",
      "\u001b[2m\u001b[36m(RolloutWorker pid=27018)\u001b[0m /home/ajvendetta/.pyenv/versions/3.8.16/envs/cassie/lib/python3.8/site-packages/gymnasium/spaces/box.py:127: UserWarning: \u001b[33mWARN: Box bound precision lowered by casting to float32\u001b[0m\n",
      "\u001b[2m\u001b[36m(RolloutWorker pid=27018)\u001b[0m   logger.warn(f\"Box bound precision lowered by casting to {self.dtype}\")\n",
      "2023-04-02 03:59:59,073\tWARNING worker.py:1866 -- A worker died or was killed while executing a task by an unexpected system error. To troubleshoot the problem, check the logs for the dead worker. RayTask ID: ffffffffffffffff8994074f57db4c42e0f021ab01000000 Worker ID: e7e92f8c0cc1b7d2de167ac4bf6fce976d2e79fed1ab1ac36e84bd58 Node ID: fd1ecc358b9eca01d539f04af816f58bba283e5b613adc5df52f0891 Worker IP address: 129.104.243.74 Worker port: 34047 Worker PID: 21838 Worker exit type: SYSTEM_ERROR Worker exit detail: Worker unexpectedly exits with a connection error code 2. End of file. There are some potential root causes. (1) The process is killed by SIGKILL by OOM killer due to high memory usage. (2) ray stop --force is called. (3) The worker is crashed unexpectedly due to SIGSEGV or other unexpected errors.\n"
     ]
    }
   ],
   "source": [
    "from ray.rllib.agents.ppo import PPOTrainer\n",
    "from ray.rllib.models import ModelCatalog\n",
    "\n",
    "# create the trainer and load the latest checkpoint if it exists\n",
    "trainer = PPOTrainer(config=config, env=\"cassie-v0\")\n",
    "checkpoint_path = trainer.restore()\n",
    "\n",
    "# get the policy and its config\n",
    "policy = trainer.get_policy()\n",
    "policy_config = policy.config.copy()\n",
    "\n",
    "# get the missing arguments for get_model_v2 method\n",
    "action_space = policy_config[\"action_space\"]\n",
    "num_outputs = policy_config[\"model\"][\"fcnet_hiddens\"][-1]\n",
    "model_config = policy_config[\"model\"]\n",
    "#set the num gpus and cpus to 0 in the policy config\n",
    "policy_config[\"num_gpus\"] = 0\n",
    "\n",
    "\n",
    "# reload the model from the checkpoint\n",
    "ModelCatalog.get_model_v2(\n",
    "    policy.model,\n",
    "    action_space=action_space,\n",
    "    num_outputs=num_outputs,\n",
    "    model_config=model_config\n",
    ").restore(checkpoint_path)\n",
    "\n",
    "# create a new policy with the reloaded model\n",
    "new_policy = policy.copy()\n",
    "new_policy.set_model(policy.model)\n",
    "\n",
    "# set the new policy in the trainer\n",
    "trainer.set_policy(new_policy)\n"
   ]
  },
  {
   "cell_type": "code",
   "execution_count": null,
   "metadata": {},
   "outputs": [],
   "source": [
    "import cv2\n",
    "import os\n",
    "\n",
    "# Training loop\n",
    "\n",
    "max_test_i = 0\n",
    "checkpoint_frequency = 10\n",
    "simulation_frequency = 20\n",
    "env = CassieEnv({})\n",
    "env.render_mode = \"rgb_array\"\n",
    "\n",
    "\n",
    "# Find the latest directory named test_i in the sim directory\n",
    "latest_directory = max([int(d.split(\"_\")[-1]) for d in os.listdir(sim_dir) if d.startswith(\"test_\")], default=0)\n",
    "max_test_i = latest_directory + 1\n",
    "\n",
    "# Create folder for test\n",
    "test_dir = os.path.join(sim_dir, \"test_{}\".format(max_test_i))\n",
    "os.makedirs(test_dir, exist_ok=True)\n",
    "\n",
    "# Define video codec and framerate\n",
    "fourcc = cv2.VideoWriter_fourcc(*\"mp4v\")\n",
    "fps = 30\n",
    "\n",
    "\n",
    "\n",
    "# Set initial iteration count\n",
    "i = trainer.iteration if hasattr(trainer, \"iteration\") else 0\n",
    "\n",
    "while True:\n",
    "\n",
    "        # Train for one iteration\n",
    "        result = trainer.train()\n",
    "        i += 1\n",
    "        print(\"Episode Reward Mean for iteration {} is {}\".format(i, result[\"episode_reward_mean\"]))\n",
    "\n",
    "        # Save model every 10 epochs\n",
    "        if i % checkpoint_frequency == 0:\n",
    "            checkpoint_path = trainer.save()\n",
    "            print(\"Checkpoint saved at\", checkpoint_path)\n",
    "\n",
    "        # Run a test every 20 epochs\n",
    "        if i % simulation_frequency == 0:\n",
    "\n",
    "            # Run test\n",
    "            video_path = os.path.join(test_dir, \"sim_{}.mp4\".format(i))\n",
    "\n",
    "            env.reset()\n",
    "            obs = env.reset()[0]\n",
    "            done = False\n",
    "            frames = []\n",
    "\n",
    "            while not done:\n",
    "                action = trainer.compute_single_action(obs)\n",
    "                obs, _, done, _, _ = env.step(action)\n",
    "                frame = env.render()\n",
    "                frames.append(frame)\n",
    "\n",
    "            # Save frames as video\n",
    "            height, width, _ = frames[0].shape\n",
    "            video_writer = cv2.VideoWriter(video_path, fourcc, fps, (width, height))\n",
    "            for frame in frames:\n",
    "                video_writer.write(frame)\n",
    "            video_writer.release()\n",
    "\n",
    "            # Increment test index\n",
    "            max_test_i += 1\n"
   ]
  }
 ],
 "metadata": {
  "kernelspec": {
   "display_name": "Python 3",
   "language": "python",
   "name": "python3"
  },
  "language_info": {
   "codemirror_mode": {
    "name": "ipython",
    "version": 3
   },
   "file_extension": ".py",
   "mimetype": "text/x-python",
   "name": "python",
   "nbconvert_exporter": "python",
   "pygments_lexer": "ipython3",
   "version": "3.10.6"
  },
  "orig_nbformat": 4
 },
 "nbformat": 4,
 "nbformat_minor": 2
}
