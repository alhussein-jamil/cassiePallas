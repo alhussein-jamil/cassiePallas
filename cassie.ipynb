{
 "cells": [
  {
   "cell_type": "code",
   "execution_count": 59,
   "metadata": {},
   "outputs": [],
   "source": [
    "from cassie import CassieEnv\n",
    "import functions as f \n",
    "import loader as l \n",
    "import constants as c \n",
    "import numpy as np\n",
    "\n",
    "import mujoco "
   ]
  },
  {
   "cell_type": "code",
   "execution_count": 184,
   "metadata": {},
   "outputs": [
    {
     "data": {
      "text/plain": [
       "(array([ 3.99322243e-01,  5.02738021e-01,  3.85149473e-01,  8.79052870e-01,\n",
       "         1.27200696e+00,  4.99900239e-01, -4.08194630e-01,  1.27271287e+00,\n",
       "         5.99526691e-01,  4.97174572e-01,  3.85678299e-01,  1.19310330e+00,\n",
       "         1.27142680e+00,  4.99942236e-01, -4.08265191e-01,  1.27270126e+00,\n",
       "         4.99953514e-01,  4.99961098e-01,  5.00137610e-01,  9.99970236e-01,\n",
       "        -4.30786895e-06,  7.70190819e-03,  4.56580093e-04,  0.00000000e+00,\n",
       "         1.00000000e+00]),\n",
       " {})"
      ]
     },
     "execution_count": 184,
     "metadata": {},
     "output_type": "execute_result"
    }
   ],
   "source": [
    "cassie = CassieEnv({})\n",
    "cassie.reset()"
   ]
  },
  {
   "cell_type": "code",
   "execution_count": 202,
   "metadata": {},
   "outputs": [
    {
     "data": {
      "text/plain": [
       "(array([ 0.18744962,  0.38710523,  0.28759113,  0.94130226,  0.77137132,\n",
       "         0.49880466, -0.40128582,  1.26270015,  0.28461942,  0.27005856,\n",
       "         0.30519476,  1.06042893,  1.05480874,  0.50081429, -0.40008793,\n",
       "         1.2683689 ,  0.50214241,  0.48617227,  0.5285493 ,  0.89367805,\n",
       "        -0.00889322, -0.43935034,  0.09072884,  0.9781476 , -0.20791169]),\n",
       " 0.5950386202251442,\n",
       " False,\n",
       " False,\n",
       " {})"
      ]
     },
     "execution_count": 202,
     "metadata": {},
     "output_type": "execute_result"
    }
   ],
   "source": [
    "cassie.step(cassie.action_space.sample())\n",
    "\n"
   ]
  },
  {
   "cell_type": "code",
   "execution_count": 203,
   "metadata": {},
   "outputs": [],
   "source": [
    "import tensorboard"
   ]
  },
  {
   "cell_type": "code",
   "execution_count": 204,
   "metadata": {},
   "outputs": [],
   "source": [
    "import glfw\n",
    "from pyvirtualdisplay import Display\n",
    "\n",
    "# Start virtual display\n",
    "display = Display(visible=0, size=(800, 600))\n",
    "display.start()\n",
    "\n",
    "# Initialize GLFW library\n",
    "if not glfw.init():\n",
    "    raise Exception(\"GLFW initialization failed\")\n",
    "\n"
   ]
  },
  {
   "cell_type": "code",
   "execution_count": 205,
   "metadata": {},
   "outputs": [],
   "source": [
    "cassie = CassieEnv({})\n"
   ]
  },
  {
   "cell_type": "code",
   "execution_count": 207,
   "metadata": {},
   "outputs": [],
   "source": [
    "#simulate cassie for some steps doing nothing and plot the metrics inside \n",
    "rendered_frames = []\n",
    "used_quantities = []\n",
    "cassie.render_mode = \"rgb_array\"\n",
    "cassie.reset()\n",
    "for _ in range(100):\n",
    "    obs, _, _, _,_ = cassie.step(np.zeros(10))\n",
    "    rendered_frame = cassie.render()\n",
    "    rendered_frames.append(rendered_frame)\n",
    "    for i in range (len(obs)):\n",
    "        cassie.used_quantities[\"ob_\"+str(i)] = obs[i]\n",
    "    used_quantities.append(cassie.used_quantities)\n",
    "\n",
    "# convert list of dictionaries to dictionary of lists\n",
    "used_quantities = {k: [d[k] for d in used_quantities] for k in used_quantities[0]}"
   ]
  },
  {
   "cell_type": "code",
   "execution_count": 208,
   "metadata": {},
   "outputs": [],
   "source": [
    "import matplotlib.pyplot as plt\n",
    "import ipywidgets as widgets\n",
    "\n",
    "def plot_cassie(rendered_frames, used_quantities):\n",
    "    fig, (ax1, ax2) = plt.subplots(1, 2, figsize=(10, 6))\n",
    "    fig.subplots_adjust(bottom=0.2)\n",
    "\n",
    "    # plot the first frame\n",
    "    im = ax1.imshow(rendered_frames[0])\n",
    "    ax1.axis('off')\n",
    "\n",
    "    # plot the metrics\n",
    "    lines = {}\n",
    "    for key, value in used_quantities.items():\n",
    "        line, = ax2.plot(value[:1])\n",
    "        lines[key] = line\n",
    "    ax2.set_xlabel('Frame')\n",
    "    ax2.set_ylabel('Value')\n",
    "\n",
    "    # create the slider\n",
    "    slider = widgets.IntSlider(min=0, max=len(rendered_frames)-1, step=1, value=0)\n",
    "\n",
    "    # create an output widget to display the plot\n",
    "    out = widgets.Output()\n",
    "\n",
    "    # function to update the plot when the slider is moved\n",
    "    def update_plot(frame):\n",
    "        im.set_data(rendered_frames[frame])\n",
    "        for key, line in lines.items():\n",
    "            line.set_data(range(frame+1), used_quantities[key][:frame+1])\n",
    "        ax2.relim()\n",
    "        ax2.autoscale_view()\n",
    "        with out:\n",
    "            out.clear_output(wait=True)\n",
    "            display(fig)\n",
    "\n",
    "    slider.observe(lambda event: update_plot(event['new']), names='value')\n",
    "\n",
    "    return widgets.VBox([out, slider])\n"
   ]
  },
  {
   "cell_type": "code",
   "execution_count": 210,
   "metadata": {},
   "outputs": [
    {
     "data": {
      "text/plain": [
       "(480, 480, 3)"
      ]
     },
     "execution_count": 210,
     "metadata": {},
     "output_type": "execute_result"
    }
   ],
   "source": [
    "rendered_frames[0].shape"
   ]
  },
  {
   "cell_type": "code",
   "execution_count": 212,
   "metadata": {},
   "outputs": [],
   "source": [
    "import cv2\n",
    "import numpy as np\n",
    "\n",
    "# Define the codec and create VideoWriter object\n",
    "fourcc = cv2.VideoWriter_fourcc(*'mp4v') # mp4 codec\n",
    "out = cv2.VideoWriter('output.mp4', fourcc, 25.0, (480, 480)) # output file name, codec, frame rate, frame size\n",
    "\n",
    "# Loop through the list of frames and write each frame to the output video file\n",
    "for frame in rendered_frames:\n",
    "    # Resize the frame to match the output frame size\n",
    "    frame = cv2.resize(frame, (480, 480))\n",
    "    out.write(frame)\n",
    "\n",
    "# Release the VideoWriter and close all windows\n",
    "out.release()\n",
    "cv2.destroyAllWindows()\n"
   ]
  }
 ],
 "metadata": {
  "kernelspec": {
   "display_name": "Python 3",
   "language": "python",
   "name": "python3"
  },
  "language_info": {
   "codemirror_mode": {
    "name": "ipython",
    "version": 3
   },
   "file_extension": ".py",
   "mimetype": "text/x-python",
   "name": "python",
   "nbconvert_exporter": "python",
   "pygments_lexer": "ipython3",
   "version": "3.8.16"
  },
  "orig_nbformat": 4,
  "vscode": {
   "interpreter": {
    "hash": "0cfca53093f074d58bafa9b2466c15e18e4cd4492afc4452f2f04d8da8850d19"
   }
  }
 },
 "nbformat": 4,
 "nbformat_minor": 2
}
